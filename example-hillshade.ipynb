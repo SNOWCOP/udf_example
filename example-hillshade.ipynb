{
 "cells": [
  {
   "cell_type": "code",
   "execution_count": 1,
   "id": "013c0d64",
   "metadata": {},
   "outputs": [
    {
     "name": "stderr",
     "output_type": "stream",
     "text": [
      "/home/vpremier/.local/lib/python3.10/site-packages/pandas/core/arrays/masked.py:62: UserWarning: Pandas requires version '1.3.4' or newer of 'bottleneck' (version '1.3.2' currently installed).\n",
      "  from pandas.core import (\n"
     ]
    }
   ],
   "source": [
    "import openeo\n",
    "import geopandas as gpd\n",
    "import leafmap"
   ]
  },
  {
   "cell_type": "markdown",
   "id": "7bf4f223",
   "metadata": {},
   "source": [
    "Connect and Authenticate"
   ]
  },
  {
   "cell_type": "code",
   "execution_count": 2,
   "id": "74ef0fdc",
   "metadata": {},
   "outputs": [
    {
     "name": "stdout",
     "output_type": "stream",
     "text": [
      "Authenticated using refresh token.\n"
     ]
    },
    {
     "data": {
      "text/plain": [
       "{'info': {'oidc_userinfo': {'email': 'valentina.premier@eurac.edu',\n",
       "   'email_verified': True,\n",
       "   'family_name': 'Premier',\n",
       "   'given_name': 'Valentina',\n",
       "   'name': 'Valentina Premier',\n",
       "   'preferred_username': 'valentina.premier@eurac.edu',\n",
       "   'sub': '1aa67f75-e178-495e-a131-9f7dffaaae18'}},\n",
       " 'name': 'Valentina Premier',\n",
       " 'user_id': '1aa67f75-e178-495e-a131-9f7dffaaae18'}"
      ]
     },
     "execution_count": 2,
     "metadata": {},
     "output_type": "execute_result"
    }
   ],
   "source": [
    "eoconn = openeo.connect('https://openeo.dataspace.copernicus.eu/', auto_validate=False)\n",
    "eoconn.authenticate_oidc()\n",
    "\n",
    "eoconn.describe_account()"
   ]
  },
  {
   "cell_type": "markdown",
   "id": "7cb50598",
   "metadata": {},
   "source": [
    "Load a shapefile and define the area of interest"
   ]
  },
  {
   "cell_type": "code",
   "execution_count": 3,
   "id": "bc3b4e29",
   "metadata": {},
   "outputs": [
    {
     "data": {
      "application/vnd.jupyter.widget-view+json": {
       "model_id": "c0234b6250f7425f85eb4aae3a911667",
       "version_major": 2,
       "version_minor": 0
      },
      "text/plain": [
       "Map(center=[46.95421445230168, 11.348608981253069], controls=(ZoomControl(options=['position', 'zoom_in_text',…"
      ]
     },
     "execution_count": 3,
     "metadata": {},
     "output_type": "execute_result"
    }
   ],
   "source": [
    "shp_path = r'/mnt/CEPH_PROJECTS/ALPSNOW/Nicola/Shapefile/Hydrological_basins/Fleres_shape/Fleres_4326.shp'\n",
    "\n",
    "catchment_outline = gpd.read_file(shp_path)\n",
    "bbox = catchment_outline.bounds.iloc[0]\n",
    "\n",
    "center = (float(catchment_outline.centroid.y), \n",
    "          float(catchment_outline.centroid.x))\n",
    "m = leafmap.Map(center=center, zoom=1)\n",
    "m.add_vector(shp_path, layer_name=\"catchment\")\n",
    "m"
   ]
  },
  {
   "cell_type": "code",
   "execution_count": 4,
   "id": "dc75f856",
   "metadata": {},
   "outputs": [
    {
     "data": {
      "text/plain": [
       "minx    11.241593\n",
       "miny    46.914255\n",
       "maxx    11.444267\n",
       "maxy    46.992429\n",
       "Name: 0, dtype: float64"
      ]
     },
     "execution_count": 4,
     "metadata": {},
     "output_type": "execute_result"
    }
   ],
   "source": [
    "bbox"
   ]
  },
  {
   "cell_type": "markdown",
   "id": "96c6d20f",
   "metadata": {},
   "source": [
    "Load the Copernicus Global 30 meter Digital Elevation Model (DEM) dataset."
   ]
  },
  {
   "cell_type": "code",
   "execution_count": 6,
   "id": "9d31bcd4",
   "metadata": {},
   "outputs": [],
   "source": [
    "dem_datacube = eoconn.load_collection(\n",
    "    \"COPERNICUS_30\",\n",
    "    spatial_extent={'west':bbox[0],\n",
    "                    'east':bbox[2],\n",
    "                    'south':bbox[1],\n",
    "                    'north':bbox[3],\n",
    "                    'crs':4326},\n",
    "    bands=[\"DEM\"]\n",
    ")\n",
    "#dem_datacube.download('./results/dem.nc')"
   ]
  },
  {
   "cell_type": "code",
   "execution_count": 7,
   "id": "6a64bdbb",
   "metadata": {},
   "outputs": [],
   "source": [
    "#dem_datacube=dem_datacube.drop_dimension(\"t\")\n",
    "dem_datacube=dem_datacube.drop_dimension(\"bands\")\n",
    "\n",
    "#dem_datacube=dem_datacube.reduce_dimension(reducer=\"mean\",dimension=\"t\")\n",
    "#dem_datacube=dem_datacube.reduce_dimension(reducer=\"mean\",dimension=\"bands\")"
   ]
  },
  {
   "cell_type": "markdown",
   "id": "61f221af",
   "metadata": {},
   "source": [
    "Run the udf to get the hillshade. Use apply neighborhood to avoid missing data that appear at the edges of the chunks and ensure continuity in the output."
   ]
  },
  {
   "cell_type": "code",
   "execution_count": 9,
   "id": "4406b0d3",
   "metadata": {},
   "outputs": [],
   "source": [
    "# Load the UDF from a file.\n",
    "udf_path=\"./udf-hillshade.py\"\n",
    "\n",
    "hillshade_func = openeo.UDF.from_file(udf_path, context={\"from_parameter\": \"context\"})\n",
    "\n",
    "\n",
    "# Apply the UDF to the data cube.\n",
    "hillshade = dem_datacube.apply_neighborhood(\n",
    "    hillshade_func,\n",
    "    size=[\n",
    "        {\"dimension\": \"x\", \"value\": 224, \"unit\": \"px\"},\n",
    "        {\"dimension\": \"y\", \"value\": 224, \"unit\": \"px\"},\n",
    "    ],\n",
    "    overlap=[\n",
    "        {\"dimension\": \"x\", \"value\": 16, \"unit\": \"px\"},\n",
    "        {\"dimension\": \"y\", \"value\": 16, \"unit\": \"px\"}\n",
    "    ],\n",
    ")\n",
    "hillshade.download('./results/hillshade.tif')\n"
   ]
  },
  {
   "cell_type": "code",
   "execution_count": null,
   "id": "dfdb7d4a",
   "metadata": {},
   "outputs": [],
   "source": []
  }
 ],
 "metadata": {
  "kernelspec": {
   "display_name": "Python 3 (ipykernel)",
   "language": "python",
   "name": "python3"
  },
  "language_info": {
   "codemirror_mode": {
    "name": "ipython",
    "version": 3
   },
   "file_extension": ".py",
   "mimetype": "text/x-python",
   "name": "python",
   "nbconvert_exporter": "python",
   "pygments_lexer": "ipython3",
   "version": "3.10.12"
  }
 },
 "nbformat": 4,
 "nbformat_minor": 5
}
